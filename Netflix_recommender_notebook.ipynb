{
 "cells": [
  {
   "cell_type": "code",
   "execution_count": 1,
   "id": "1e7b0489-a765-42f1-80fc-223cca9056c1",
   "metadata": {},
   "outputs": [],
   "source": [
    "# Import required packages\n",
    "import pandas as pd\n",
    "import numpy as np\n",
    "import math\n",
    "import re\n",
    "from scipy.sparse import csr_matrix\n",
    "import matplotlib.pyplot as plt\n",
    "import seaborn as sns\n",
    "from surprise import Reader, Dataset, SVD\n",
    "from surprise.model_selection import cross_validate"
   ]
  },
  {
   "cell_type": "code",
   "execution_count": 43,
   "id": "74ba021a",
   "metadata": {},
   "outputs": [],
   "source": [
    "# Read one of the files for test purposes\n",
    "df_file_1 = pd.read_csv('combined_data_1.txt', header=None, names=['customer_id', 'rating', 'date_given'])"
   ]
  },
  {
   "cell_type": "code",
   "execution_count": 44,
   "id": "23af3310",
   "metadata": {},
   "outputs": [
    {
     "data": {
      "text/html": [
       "<div>\n",
       "<style scoped>\n",
       "    .dataframe tbody tr th:only-of-type {\n",
       "        vertical-align: middle;\n",
       "    }\n",
       "\n",
       "    .dataframe tbody tr th {\n",
       "        vertical-align: top;\n",
       "    }\n",
       "\n",
       "    .dataframe thead th {\n",
       "        text-align: right;\n",
       "    }\n",
       "</style>\n",
       "<table border=\"1\" class=\"dataframe\">\n",
       "  <thead>\n",
       "    <tr style=\"text-align: right;\">\n",
       "      <th></th>\n",
       "      <th>customer_id</th>\n",
       "      <th>rating</th>\n",
       "      <th>date_given</th>\n",
       "    </tr>\n",
       "  </thead>\n",
       "  <tbody>\n",
       "    <tr>\n",
       "      <th>0</th>\n",
       "      <td>1:</td>\n",
       "      <td>NaN</td>\n",
       "      <td>NaN</td>\n",
       "    </tr>\n",
       "    <tr>\n",
       "      <th>1</th>\n",
       "      <td>1488844</td>\n",
       "      <td>3.0</td>\n",
       "      <td>2005-09-06</td>\n",
       "    </tr>\n",
       "    <tr>\n",
       "      <th>2</th>\n",
       "      <td>822109</td>\n",
       "      <td>5.0</td>\n",
       "      <td>2005-05-13</td>\n",
       "    </tr>\n",
       "    <tr>\n",
       "      <th>3</th>\n",
       "      <td>885013</td>\n",
       "      <td>4.0</td>\n",
       "      <td>2005-10-19</td>\n",
       "    </tr>\n",
       "    <tr>\n",
       "      <th>4</th>\n",
       "      <td>30878</td>\n",
       "      <td>4.0</td>\n",
       "      <td>2005-12-26</td>\n",
       "    </tr>\n",
       "  </tbody>\n",
       "</table>\n",
       "</div>"
      ],
      "text/plain": [
       "  customer_id  rating  date_given\n",
       "0          1:     NaN         NaN\n",
       "1     1488844     3.0  2005-09-06\n",
       "2      822109     5.0  2005-05-13\n",
       "3      885013     4.0  2005-10-19\n",
       "4       30878     4.0  2005-12-26"
      ]
     },
     "execution_count": 44,
     "metadata": {},
     "output_type": "execute_result"
    }
   ],
   "source": [
    "df_file_1.head()"
   ]
  },
  {
   "cell_type": "code",
   "execution_count": 45,
   "id": "36c731dd",
   "metadata": {},
   "outputs": [],
   "source": [
    "# Drop the date_given column for now and convert rating column to float\n",
    "df_file_1.drop(columns=['date_given'], inplace=True)\n",
    "\n",
    "df_file_1['rating'] = df_file_1['rating'].astype('float')"
   ]
  },
  {
   "cell_type": "code",
   "execution_count": 46,
   "id": "f2d71d95",
   "metadata": {},
   "outputs": [],
   "source": [
    "# Find the indices of NaN values in the 'rating' column\n",
    "nan_indices = df_file_1[df_file_1['rating'].isnull()].index\n",
    "\n",
    "# Initialize movie_np array with zeros\n",
    "movie_np = np.zeros(len(df_file_1), dtype=int)\n",
    "\n",
    "# Assign movie ids to consecutive NaN values\n",
    "movie_id = 1\n",
    "prev_index = nan_indices[0]\n",
    "for index in nan_indices[1:]:\n",
    "    movie_np[prev_index+1:index] = movie_id\n",
    "    movie_id += 1\n",
    "    prev_index = index\n",
    "\n",
    "# Assign movie id to the remaining NaN values after the last NaN index\n",
    "movie_np[nan_indices[-1]+1:] = movie_id\n",
    "\n",
    "# Remove leading zeros if any\n",
    "movie_np = movie_np[movie_np != 0]"
   ]
  },
  {
   "cell_type": "code",
   "execution_count": 47,
   "id": "e984b356",
   "metadata": {},
   "outputs": [],
   "source": [
    "df_file_1.dropna(subset=['rating'], inplace=True)\n",
    "df_file_1['movie_id'] = movie_np.astype(int)\n",
    "df_file_1['customer_id'] = df_file_1['customer_id'].astype(int)"
   ]
  },
  {
   "cell_type": "code",
   "execution_count": 48,
   "id": "2d91a058",
   "metadata": {},
   "outputs": [
    {
     "data": {
      "text/html": [
       "<div>\n",
       "<style scoped>\n",
       "    .dataframe tbody tr th:only-of-type {\n",
       "        vertical-align: middle;\n",
       "    }\n",
       "\n",
       "    .dataframe tbody tr th {\n",
       "        vertical-align: top;\n",
       "    }\n",
       "\n",
       "    .dataframe thead th {\n",
       "        text-align: right;\n",
       "    }\n",
       "</style>\n",
       "<table border=\"1\" class=\"dataframe\">\n",
       "  <thead>\n",
       "    <tr style=\"text-align: right;\">\n",
       "      <th></th>\n",
       "      <th>customer_id</th>\n",
       "      <th>rating</th>\n",
       "      <th>movie_id</th>\n",
       "    </tr>\n",
       "  </thead>\n",
       "  <tbody>\n",
       "    <tr>\n",
       "      <th>24058258</th>\n",
       "      <td>2591364</td>\n",
       "      <td>2.0</td>\n",
       "      <td>4499</td>\n",
       "    </tr>\n",
       "    <tr>\n",
       "      <th>24058259</th>\n",
       "      <td>1791000</td>\n",
       "      <td>2.0</td>\n",
       "      <td>4499</td>\n",
       "    </tr>\n",
       "    <tr>\n",
       "      <th>24058260</th>\n",
       "      <td>512536</td>\n",
       "      <td>5.0</td>\n",
       "      <td>4499</td>\n",
       "    </tr>\n",
       "    <tr>\n",
       "      <th>24058261</th>\n",
       "      <td>988963</td>\n",
       "      <td>3.0</td>\n",
       "      <td>4499</td>\n",
       "    </tr>\n",
       "    <tr>\n",
       "      <th>24058262</th>\n",
       "      <td>1704416</td>\n",
       "      <td>3.0</td>\n",
       "      <td>4499</td>\n",
       "    </tr>\n",
       "  </tbody>\n",
       "</table>\n",
       "</div>"
      ],
      "text/plain": [
       "          customer_id  rating  movie_id\n",
       "24058258      2591364     2.0      4499\n",
       "24058259      1791000     2.0      4499\n",
       "24058260       512536     5.0      4499\n",
       "24058261       988963     3.0      4499\n",
       "24058262      1704416     3.0      4499"
      ]
     },
     "execution_count": 48,
     "metadata": {},
     "output_type": "execute_result"
    }
   ],
   "source": [
    "df_file_1.tail()"
   ]
  },
  {
   "cell_type": "code",
   "execution_count": 49,
   "id": "61d7dde6",
   "metadata": {},
   "outputs": [],
   "source": [
    "funcs = ['count','mean']\n",
    "\n",
    "df_movie_group = df_file_1.groupby('movie_id')['rating'].agg(funcs)\n",
    "movie_count_sliced = round(df_movie_group['count'].quantile(0.8), 0)\n",
    "movie_sliced_idx = df_movie_group[df_movie_group['count'] < movie_count_sliced].index\n",
    "\n",
    "df_cust_group = df_file_1.groupby('customer_id')['rating'].agg(funcs)\n",
    "cust_count_sliced = round(df_cust_group['count'].quantile(0.8), 0)\n",
    "cust_sliced_idx = df_cust_group[df_cust_group['count'] < cust_count_sliced].index"
   ]
  },
  {
   "cell_type": "code",
   "execution_count": 50,
   "id": "96699a1c",
   "metadata": {},
   "outputs": [
    {
     "data": {
      "text/plain": [
       "79.0"
      ]
     },
     "execution_count": 50,
     "metadata": {},
     "output_type": "execute_result"
    }
   ],
   "source": [
    "cust_count_sliced"
   ]
  },
  {
   "cell_type": "code",
   "execution_count": 51,
   "id": "02b3881b",
   "metadata": {},
   "outputs": [],
   "source": [
    "sliced_mvis = df_file_1['movie_id'].isin(movie_sliced_idx)\n",
    "df_file_1 = df_file_1[~sliced_mvis]\n",
    "sliced_cust = df_file_1['customer_id'].isin(cust_sliced_idx)\n",
    "df_file_1 = df_file_1[~sliced_cust]"
   ]
  },
  {
   "cell_type": "code",
   "execution_count": 53,
   "id": "b6a1dfab",
   "metadata": {},
   "outputs": [
    {
     "data": {
      "text/plain": [
       "(13528427, 3)"
      ]
     },
     "execution_count": 53,
     "metadata": {},
     "output_type": "execute_result"
    }
   ],
   "source": [
    "df_file_1.shape"
   ]
  },
  {
   "cell_type": "code",
   "execution_count": 54,
   "id": "ea792f92",
   "metadata": {},
   "outputs": [],
   "source": [
    "pivot_df = pd.pivot_table(df_file_1, values='rating', index='customer_id', columns='movie_id')"
   ]
  },
  {
   "cell_type": "code",
   "execution_count": 60,
   "id": "2b4d5f64",
   "metadata": {},
   "outputs": [],
   "source": [
    "df_movie_titles = pd.read_csv('movie_titles.csv', encoding='ISO-8859-1', header=None, names=['movie_id', 'released_year','movie_name', 'dum','dum2', 'dum3'])"
   ]
  },
  {
   "cell_type": "code",
   "execution_count": 66,
   "id": "5cf387b1",
   "metadata": {},
   "outputs": [
    {
     "data": {
      "text/html": [
       "<div>\n",
       "<style scoped>\n",
       "    .dataframe tbody tr th:only-of-type {\n",
       "        vertical-align: middle;\n",
       "    }\n",
       "\n",
       "    .dataframe tbody tr th {\n",
       "        vertical-align: top;\n",
       "    }\n",
       "\n",
       "    .dataframe thead th {\n",
       "        text-align: right;\n",
       "    }\n",
       "</style>\n",
       "<table border=\"1\" class=\"dataframe\">\n",
       "  <thead>\n",
       "    <tr style=\"text-align: right;\">\n",
       "      <th></th>\n",
       "      <th>movie_id</th>\n",
       "      <th>released_year</th>\n",
       "      <th>movie_name</th>\n",
       "      <th>dum</th>\n",
       "      <th>dum2</th>\n",
       "      <th>dum3</th>\n",
       "    </tr>\n",
       "  </thead>\n",
       "  <tbody>\n",
       "    <tr>\n",
       "      <th>71</th>\n",
       "      <td>72</td>\n",
       "      <td>1974.0</td>\n",
       "      <td>At Home Among Strangers</td>\n",
       "      <td>A Stranger Among His Own</td>\n",
       "      <td>NaN</td>\n",
       "      <td>NaN</td>\n",
       "    </tr>\n",
       "    <tr>\n",
       "      <th>263</th>\n",
       "      <td>264</td>\n",
       "      <td>2002.0</td>\n",
       "      <td>Angelina Ballerina: Lights</td>\n",
       "      <td>Camera</td>\n",
       "      <td>Action!</td>\n",
       "      <td>NaN</td>\n",
       "    </tr>\n",
       "    <tr>\n",
       "      <th>349</th>\n",
       "      <td>350</td>\n",
       "      <td>1993.0</td>\n",
       "      <td>Dr. Quinn</td>\n",
       "      <td>Medicine Woman: Season 3</td>\n",
       "      <td>NaN</td>\n",
       "      <td>NaN</td>\n",
       "    </tr>\n",
       "    <tr>\n",
       "      <th>365</th>\n",
       "      <td>366</td>\n",
       "      <td>2004.0</td>\n",
       "      <td>Still</td>\n",
       "      <td>We Believe: The Boston Red Sox Movie</td>\n",
       "      <td>NaN</td>\n",
       "      <td>NaN</td>\n",
       "    </tr>\n",
       "    <tr>\n",
       "      <th>393</th>\n",
       "      <td>394</td>\n",
       "      <td>1916.0</td>\n",
       "      <td>20</td>\n",
       "      <td>000 Leagues Under the Sea</td>\n",
       "      <td>NaN</td>\n",
       "      <td>NaN</td>\n",
       "    </tr>\n",
       "    <tr>\n",
       "      <th>...</th>\n",
       "      <td>...</td>\n",
       "      <td>...</td>\n",
       "      <td>...</td>\n",
       "      <td>...</td>\n",
       "      <td>...</td>\n",
       "      <td>...</td>\n",
       "    </tr>\n",
       "    <tr>\n",
       "      <th>17346</th>\n",
       "      <td>17347</td>\n",
       "      <td>2002.0</td>\n",
       "      <td>Read-Along: Monsters</td>\n",
       "      <td>Inc.</td>\n",
       "      <td>NaN</td>\n",
       "      <td>NaN</td>\n",
       "    </tr>\n",
       "    <tr>\n",
       "      <th>17418</th>\n",
       "      <td>17419</td>\n",
       "      <td>1974.0</td>\n",
       "      <td>It's the Easter Beagle</td>\n",
       "      <td>Charlie Brown</td>\n",
       "      <td>NaN</td>\n",
       "      <td>NaN</td>\n",
       "    </tr>\n",
       "    <tr>\n",
       "      <th>17572</th>\n",
       "      <td>17573</td>\n",
       "      <td>1981.0</td>\n",
       "      <td>Fort Apache</td>\n",
       "      <td>the Bronx</td>\n",
       "      <td>NaN</td>\n",
       "      <td>NaN</td>\n",
       "    </tr>\n",
       "    <tr>\n",
       "      <th>17596</th>\n",
       "      <td>17597</td>\n",
       "      <td>1969.0</td>\n",
       "      <td>They Shoot Horses</td>\n",
       "      <td>Don't They?</td>\n",
       "      <td>NaN</td>\n",
       "      <td>NaN</td>\n",
       "    </tr>\n",
       "    <tr>\n",
       "      <th>17678</th>\n",
       "      <td>17679</td>\n",
       "      <td>1999.0</td>\n",
       "      <td>Into the Thin Air of Everest: Mountain of Dreams</td>\n",
       "      <td>Mountain of Doom</td>\n",
       "      <td>NaN</td>\n",
       "      <td>NaN</td>\n",
       "    </tr>\n",
       "  </tbody>\n",
       "</table>\n",
       "<p>336 rows × 6 columns</p>\n",
       "</div>"
      ],
      "text/plain": [
       "       movie_id  released_year  \\\n",
       "71           72         1974.0   \n",
       "263         264         2002.0   \n",
       "349         350         1993.0   \n",
       "365         366         2004.0   \n",
       "393         394         1916.0   \n",
       "...         ...            ...   \n",
       "17346     17347         2002.0   \n",
       "17418     17419         1974.0   \n",
       "17572     17573         1981.0   \n",
       "17596     17597         1969.0   \n",
       "17678     17679         1999.0   \n",
       "\n",
       "                                             movie_name  \\\n",
       "71                              At Home Among Strangers   \n",
       "263                          Angelina Ballerina: Lights   \n",
       "349                                           Dr. Quinn   \n",
       "365                                               Still   \n",
       "393                                                  20   \n",
       "...                                                 ...   \n",
       "17346                              Read-Along: Monsters   \n",
       "17418                            It's the Easter Beagle   \n",
       "17572                                       Fort Apache   \n",
       "17596                                 They Shoot Horses   \n",
       "17678  Into the Thin Air of Everest: Mountain of Dreams   \n",
       "\n",
       "                                         dum      dum2 dum3  \n",
       "71                  A Stranger Among His Own       NaN  NaN  \n",
       "263                                   Camera   Action!  NaN  \n",
       "349                 Medicine Woman: Season 3       NaN  NaN  \n",
       "365     We Believe: The Boston Red Sox Movie       NaN  NaN  \n",
       "393                000 Leagues Under the Sea       NaN  NaN  \n",
       "...                                      ...       ...  ...  \n",
       "17346                                   Inc.       NaN  NaN  \n",
       "17418                          Charlie Brown       NaN  NaN  \n",
       "17572                              the Bronx       NaN  NaN  \n",
       "17596                            Don't They?       NaN  NaN  \n",
       "17678                       Mountain of Doom       NaN  NaN  \n",
       "\n",
       "[336 rows x 6 columns]"
      ]
     },
     "execution_count": 66,
     "metadata": {},
     "output_type": "execute_result"
    }
   ],
   "source": [
    "df_movie_titles[~df_movie_titles['dum'].isna()]"
   ]
  },
  {
   "cell_type": "code",
   "execution_count": null,
   "id": "050a5309",
   "metadata": {},
   "outputs": [],
   "source": []
  }
 ],
 "metadata": {
  "kernelspec": {
   "display_name": "Python 3 (ipykernel)",
   "language": "python",
   "name": "python3"
  },
  "language_info": {
   "codemirror_mode": {
    "name": "ipython",
    "version": 3
   },
   "file_extension": ".py",
   "mimetype": "text/x-python",
   "name": "python",
   "nbconvert_exporter": "python",
   "pygments_lexer": "ipython3",
   "version": "3.11.8"
  }
 },
 "nbformat": 4,
 "nbformat_minor": 5
}
